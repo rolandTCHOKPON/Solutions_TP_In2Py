{
 "cells": [
  {
   "cell_type": "markdown",
   "id": "5be933c3",
   "metadata": {},
   "source": [
    "# Special TP 1"
   ]
  },
  {
   "cell_type": "markdown",
   "id": "b177f516",
   "metadata": {},
   "source": [
    "1. Calculons les expressions :\n",
    "    - Somme :"
   ]
  },
  {
   "cell_type": "code",
   "execution_count": 1,
   "id": "e0b487f4",
   "metadata": {},
   "outputs": [
    {
     "name": "stderr",
     "output_type": "stream",
     "text": [
      "\n",
      "KeyboardInterrupt\n",
      "\n"
     ]
    }
   ],
   "source": [
    "n = input(\"Veuillez saisir un entier : \")\n",
    "somme = 0\n",
    "for i in range(0,int(n)-1) :\n",
    "    somme = somme  + (i+3)\n",
    "print(somme)    "
   ]
  },
  {
   "cell_type": "markdown",
   "id": "1a9167f4",
   "metadata": {},
   "source": [
    "    - Produit :"
   ]
  },
  {
   "cell_type": "code",
   "execution_count": 13,
   "id": "0aa09376",
   "metadata": {},
   "outputs": [
    {
     "name": "stdout",
     "output_type": "stream",
     "text": [
      "Veuillez saisir un entier : 3\n",
      "12\n"
     ]
    }
   ],
   "source": [
    "n = input(\"Veuillez saisir un entier : \")\n",
    "produit = 1\n",
    "for i in range(0,int(n)-1) :\n",
    "    produit = produit  * (i+3)\n",
    "print(produit) "
   ]
  },
  {
   "cell_type": "markdown",
   "id": "c590a995",
   "metadata": {},
   "source": [
    "2. Affichez date"
   ]
  },
  {
   "cell_type": "code",
   "execution_count": 91,
   "id": "6706dec1",
   "metadata": {},
   "outputs": [
    {
     "name": "stdout",
     "output_type": "stream",
     "text": [
      "Veuillez saisir le jour : 4\n",
      "Le jour correspondant est :  Friday\n"
     ]
    }
   ],
   "source": [
    "x = {0:'Monday', 1:'Tuesday', 2:'Wednesday', 3:'Thursday', 4:'Friday',5:'Saturday',6:'Sunday'}\n",
    "n = input(\"Veuillez saisir le jour : \")\n",
    "while((int(n)<0) | (int(n)>6) ) :\n",
    "    n = input(\"Veuillez saisir un jour compris entre [0-6]: \")\n",
    "if int(n) > 0 and int(n) < 5 :   \n",
    "    print(\"Le jour correspondant est : \",x[int(n)])\n",
    "else :\n",
    "    print(\"Weekend\")"
   ]
  },
  {
   "cell_type": "markdown",
   "id": "77d41b98",
   "metadata": {},
   "source": [
    "3. mois de l'année"
   ]
  },
  {
   "cell_type": "code",
   "execution_count": 5,
   "id": "3b7c8841",
   "metadata": {},
   "outputs": [
    {
     "name": "stdout",
     "output_type": "stream",
     "text": [
      "Veuillez saisir le numero du mois : 14\n",
      "Le numero ne convient pas\n"
     ]
    }
   ],
   "source": [
    "n = int(input(\"Veuillez saisir le numero du mois : \"))\n",
    "if n==1:\n",
    "    print(\"Le mois de numero \", n, \"a 28 jours\")\n",
    "elif n in [0, 2,  4,  6,  7, 9, 11]:\n",
    "    print(\"Le mois de numero \", n, \"a 31 jours\")\n",
    "elif n in [3, 5,  8,  10]:\n",
    "    print(\"Le mois de numero \", n, \"a 30 jours\")\n",
    "else:\n",
    "    print(\"Le numero ne convient pas\")"
   ]
  },
  {
   "cell_type": "markdown",
   "id": "69a9aa4c",
   "metadata": {},
   "source": [
    "4. Affichez nom 3 fois de deux manière\n",
    "   - While loop"
   ]
  },
  {
   "cell_type": "code",
   "execution_count": 97,
   "id": "8b965ffa",
   "metadata": {},
   "outputs": [
    {
     "name": "stdout",
     "output_type": "stream",
     "text": [
      "Roland\n",
      "Roland\n",
      "Roland\n"
     ]
    }
   ],
   "source": [
    "nom  = \"Roland\"\n",
    "x = 1\n",
    "while x < 4 :\n",
    "    print(nom)\n",
    "    x = x + 1"
   ]
  },
  {
   "cell_type": "markdown",
   "id": "f7f27e30",
   "metadata": {},
   "source": [
    "   - For Loop"
   ]
  },
  {
   "cell_type": "code",
   "execution_count": 99,
   "id": "94381c5b",
   "metadata": {},
   "outputs": [
    {
     "name": "stdout",
     "output_type": "stream",
     "text": [
      "Roland\n",
      "Roland\n",
      "Roland\n"
     ]
    }
   ],
   "source": [
    "nom  = \"Roland\"\n",
    "for x in range(1,4) :\n",
    "    print(nom)\n",
    "    "
   ]
  },
  {
   "cell_type": "markdown",
   "id": "1489830f",
   "metadata": {},
   "source": [
    "5. Fibonnacci"
   ]
  },
  {
   "cell_type": "code",
   "execution_count": 73,
   "id": "49f0ddce",
   "metadata": {},
   "outputs": [
    {
     "name": "stdout",
     "output_type": "stream",
     "text": [
      "Enter a higher number of 1 : 2\n",
      "[0, 1, 1, 2, 3, 5, 8, 13, 21, 34, 55, 89, 144, 233, 377]\n"
     ]
    }
   ],
   "source": [
    "n = int(input(\"Enter a higher number of 1 : \"))\n",
    "while n <= 1:\n",
    "    n = int(input(\"Enter a higher number of 1 : \"))\n",
    "    \n",
    "Fibonacci = [0]*15\n",
    "Fibonacci[0] = 0\n",
    "Fibonacci[1] = 1\n",
    "\n",
    "for i in range(n,15):\n",
    "    Fibonacci[i] = Fibonacci[i-1] + Fibonacci[i-2]\n",
    "\n",
    "print(Fibonacci)"
   ]
  },
  {
   "cell_type": "code",
   "execution_count": 23,
   "id": "cdd20067",
   "metadata": {},
   "outputs": [
    {
     "name": "stdout",
     "output_type": "stream",
     "text": [
      "s[ 0 ] :  6.5\n",
      "s[ 1 ] :  6.25\n",
      "s[ 2 ] :  22.625\n",
      "s[ 3 ] :  30.0625\n",
      "s[ 4 ] :  82.90625\n",
      "s[ 5 ] :  131.640625\n",
      "s[ 6 ] :  314.5390625\n",
      "s[ 7 ] :  552.19140625\n",
      "s[ 8 ] :  1219.712890625\n",
      "s[ 9 ] :  2266.4306640625\n",
      "s[ 10 ] :  4792.35400390625\n",
      "s[ 11 ] :  9195.468994140625\n",
      "s[ 12 ] :  18974.796508789062\n",
      "s[ 13 ] :  37073.805236816406\n",
      "s[ 14 ] :  75461.29214477539\n",
      "s[ 15 ] :  148952.0617828369\n",
      "s[ 16 ] :  300859.9073257446\n",
      "s[ 17 ] :  597286.139011383\n",
      "s[ 18 ] :  1201222.7914829254\n",
      "s[ 19 ] :  2392469.812775612\n",
      "s[ 20 ] :  4799903.280836582\n",
      "s[ 21 ] :  9577361.078745127\n",
      "s[ 22 ] :  19188390.38188231\n",
      "s[ 23 ] :  38326278.427176535\n",
      "s[ 24 ] :  76728310.3592352\n",
      "s[ 25 ] :  153342990.4611472\n",
      "s[ 26 ] :  306856426.30827916\n",
      "s[ 27 ] :  613457184.5375812\n",
      "s[ 28 ] :  1227297871.193628\n",
      "s[ 29 ] :  2454020489.2095575\n"
     ]
    }
   ],
   "source": [
    "sequence =[0]*32\n",
    "sequence[0] = 2\n",
    "sequence[1] = 1\n",
    "\n",
    "for i in range(0,30):\n",
    "    sequence[i+2] = (sequence[i+1] + 6*sequence[i])/2\n",
    "    print(\"s[\",i,\"] : \",sequence[i+2])    "
   ]
  },
  {
   "cell_type": "markdown",
   "id": "15861fab",
   "metadata": {},
   "source": [
    "7. a) Programme servant à vérifier si une année est bissextile"
   ]
  },
  {
   "cell_type": "code",
   "execution_count": 26,
   "id": "d191073a",
   "metadata": {},
   "outputs": [
    {
     "name": "stdout",
     "output_type": "stream",
     "text": [
      "Enter any year : 2022\n",
      "No leap year\n"
     ]
    }
   ],
   "source": [
    "year = int(input(\"Enter any year : \"))\n",
    "if(year%4 == 0):\n",
    "    print(\"Leap year\")\n",
    "else:\n",
    "    print(\"No leap year\")"
   ]
  },
  {
   "cell_type": "markdown",
   "id": "2a44ef6f",
   "metadata": {},
   "source": [
    "8. a) Calculer la somme du carrée des n premiers nombre "
   ]
  },
  {
   "cell_type": "code",
   "execution_count": 27,
   "id": "2ce0f4c5",
   "metadata": {},
   "outputs": [
    {
     "name": "stdout",
     "output_type": "stream",
     "text": [
      "2470\n"
     ]
    }
   ],
   "source": [
    "somme = 0\n",
    "for i in range(0,20):\n",
    "    somme = somme + i*i\n",
    "print(somme)    "
   ]
  },
  {
   "cell_type": "code",
   "execution_count": 28,
   "id": "2e5a9a20",
   "metadata": {},
   "outputs": [
    {
     "name": "stdout",
     "output_type": "stream",
     "text": [
      "2470\n"
     ]
    }
   ],
   "source": [
    "somme = 0\n",
    "i = 0\n",
    "while i < 20:\n",
    "    somme = somme + i*i\n",
    "    i = i + 1\n",
    "print(somme)    "
   ]
  },
  {
   "cell_type": "markdown",
   "id": "be2aa7b1",
   "metadata": {},
   "source": [
    "b) Afficher l'entier naturel n plus petit que M"
   ]
  },
  {
   "cell_type": "code",
   "execution_count": 34,
   "id": "dbb8d8e8",
   "metadata": {},
   "outputs": [
    {
     "name": "stdout",
     "output_type": "stream",
     "text": [
      "1\n"
     ]
    }
   ],
   "source": [
    "M = 5\n",
    "list = []\n",
    "for i  in range(1,6):\n",
    "    if i*i <= M:\n",
    "        list.append(i)\n",
    "print(min(list))        "
   ]
  },
  {
   "cell_type": "code",
   "execution_count": 35,
   "id": "29b0329a",
   "metadata": {},
   "outputs": [
    {
     "name": "stdout",
     "output_type": "stream",
     "text": [
      "1\n"
     ]
    }
   ],
   "source": [
    "M = 5\n",
    "list = []\n",
    "i = 1\n",
    "while i<6:\n",
    "    if i*i <= M:\n",
    "        list.append(i)\n",
    "    i = i + 1     \n",
    "print(min(list))"
   ]
  },
  {
   "cell_type": "markdown",
   "id": "9cb2d539",
   "metadata": {},
   "source": [
    "9. a) Afficher les diviseurs d'un nombre n"
   ]
  },
  {
   "cell_type": "code",
   "execution_count": 40,
   "id": "7e12f131",
   "metadata": {},
   "outputs": [
    {
     "name": "stdout",
     "output_type": "stream",
     "text": [
      "1\n",
      "3\n",
      "5\n",
      "15\n"
     ]
    }
   ],
   "source": [
    "n = 15\n",
    "i = 1\n",
    "while i <= n:\n",
    "    if n % i == 0:\n",
    "        print(i)\n",
    "    i = i + 1"
   ]
  },
  {
   "cell_type": "markdown",
   "id": "761753ff",
   "metadata": {},
   "source": [
    "b) Vérifier si un nombre est premier"
   ]
  },
  {
   "cell_type": "code",
   "execution_count": 45,
   "id": "52bbc092",
   "metadata": {},
   "outputs": [
    {
     "name": "stdout",
     "output_type": "stream",
     "text": [
      "Enter a natural number : 15\n",
      "Number is not prime\n"
     ]
    }
   ],
   "source": [
    "number = int(input(\"Enter a natural number : \"))\n",
    "compteur = 0\n",
    "i = 2\n",
    "while i < number:\n",
    "    if(number%i == 0):\n",
    "        compteur = compteur + 1\n",
    "    i = i + 1\n",
    "if(compteur == 0):\n",
    "    print(\"Number is prime\")\n",
    "else:\n",
    "    print(\"Number is not prime\")"
   ]
  },
  {
   "cell_type": "markdown",
   "id": "911fc2e2",
   "metadata": {},
   "source": [
    "10. Table de multiplication"
   ]
  },
  {
   "cell_type": "code",
   "execution_count": 50,
   "id": "afce3938",
   "metadata": {},
   "outputs": [
    {
     "name": "stdout",
     "output_type": "stream",
     "text": [
      "Enter a number between 0 - 9 :14\n",
      "Enter a number between 0 - 9 :15\n",
      "Enter a number between 0 - 9 :5\n",
      "Enter a natural number : 22\n",
      "5 * 0 = 0\n",
      "5 * 1 = 5\n",
      "5 * 2 = 10\n",
      "5 * 3 = 15\n",
      "5 * 4 = 20\n",
      "5 * 5 = 25\n",
      "5 * 6 = 30\n",
      "5 * 7 = 35\n",
      "5 * 8 = 40\n",
      "5 * 9 = 45\n",
      "5 * 10 = 50\n",
      "5 * 11 = 55\n",
      "5 * 12 = 60\n",
      "5 * 13 = 65\n",
      "5 * 14 = 70\n",
      "5 * 15 = 75\n",
      "5 * 16 = 80\n",
      "5 * 17 = 85\n",
      "5 * 18 = 90\n",
      "5 * 19 = 95\n",
      "5 * 20 = 100\n",
      "5 * 21 = 105\n",
      "5 * 22 = 110\n"
     ]
    }
   ],
   "source": [
    "number_1 = int(input(\"Enter a number between 0 - 9 :\"))\n",
    "while (number_1 < 0) | (number_1 > 9):\n",
    "    number_1 = int(input(\"Enter a number between 0 - 9 :\"))\n",
    "    \n",
    "number_2 = int(input(\"Enter a natural number : \"))\n",
    "\n",
    "for i in range(number_2+1):\n",
    "    print(number_1,\"*\",i,\"=\",number_1*i)"
   ]
  },
  {
   "cell_type": "markdown",
   "id": "ca4918c9",
   "metadata": {},
   "source": [
    "11. Multiple of values"
   ]
  },
  {
   "cell_type": "code",
   "execution_count": 54,
   "id": "5a345b91",
   "metadata": {},
   "outputs": [
    {
     "name": "stdout",
     "output_type": "stream",
     "text": [
      "Les multipes de 3 :  [0, 3, 6, 9, 12, 15, 18, 21, 24, 27, 30, 33, 36, 39]\n",
      "Les multiples de 7 : [0, 7, 14, 21, 28, 35]\n",
      "Les multiples de 11 : [0, 11, 22, 33]\n"
     ]
    }
   ],
   "source": [
    "multiple_3 = []\n",
    "multiple_7 = []\n",
    "multiple_11 = []\n",
    "for i in range(0,41):\n",
    "    if i%3 == 0:\n",
    "        multiple_3.append(i)\n",
    "    if i%7 == 0:\n",
    "        multiple_7.append(i)\n",
    "    if i%11 == 0:\n",
    "        multiple_11.append(i)\n",
    "print(\"Les multipes de 3 : \",multiple_3) \n",
    "print(\"Les multiples de 7 :\",multiple_7)\n",
    "print(\"Les multiples de 11 :\",multiple_11)"
   ]
  },
  {
   "cell_type": "markdown",
   "id": "dfb62ea4",
   "metadata": {},
   "source": [
    "12. Part int of number"
   ]
  },
  {
   "cell_type": "code",
   "execution_count": 56,
   "id": "f2c1c6c1",
   "metadata": {},
   "outputs": [
    {
     "name": "stdout",
     "output_type": "stream",
     "text": [
      "Enter a float number : 1.5\n",
      "1\n"
     ]
    }
   ],
   "source": [
    "x = float(input(\"Enter a float number : \"))\n",
    "a = int(x)\n",
    "\n",
    "if(x == a):\n",
    "    print(a)\n",
    "if(x >= 0):\n",
    "    print(a)\n",
    "else:\n",
    "    print(a-1)"
   ]
  },
  {
   "cell_type": "markdown",
   "id": "acf37444",
   "metadata": {},
   "source": [
    "13. Cartesian Coordinates"
   ]
  },
  {
   "cell_type": "code",
   "execution_count": 68,
   "id": "0ad90fac",
   "metadata": {},
   "outputs": [
    {
     "name": "stdout",
     "output_type": "stream",
     "text": [
      "Enter abscissa of point : 0\n",
      "Enter orderly of point : 0\n",
      "Origin of landmark\n"
     ]
    }
   ],
   "source": [
    "x = float(input(\"Enter abscissa of point : \"))\n",
    "y = float(input(\"Enter orderly of point : \"))\n",
    "\n",
    "if(x == 0) & (y == 0):\n",
    "    print(\"Origin of landmark\")\n",
    "elif(x < 0) & (y > 0):\n",
    "    print(\"1st quadrant\")\n",
    "elif(x < 0) & (y < 0):\n",
    "    print(\"3rd quadrant\")\n",
    "elif(x > 0) & (y > 0):\n",
    "    print(\"2nd quadrant\")\n",
    "if(x > 0)&(y < 0):\n",
    "    print(\"4th quadrant\")"
   ]
  },
  {
   "cell_type": "markdown",
   "id": "377e177d",
   "metadata": {},
   "source": [
    "14. Multiples of numbers"
   ]
  },
  {
   "cell_type": "code",
   "execution_count": 67,
   "id": "5149b5b4",
   "metadata": {},
   "outputs": [
    {
     "name": "stdout",
     "output_type": "stream",
     "text": [
      "Enter a number between 0 - 9 :4\n",
      "Enter a number between 0 - 255 : 254\n",
      "All multiple of x :  [1, 2, 4]\n"
     ]
    }
   ],
   "source": [
    "x = int(input(\"Enter a number between [0 - 9] :\"))\n",
    "while (x < 0) | (x > 10):\n",
    "    x = int(input(\"Enter a number between [0 - 9] :\"))\n",
    "    \n",
    "maxi = int(input(\"Enter a number between 0 - 255 : \")) \n",
    "while (maxi < 0) | (maxi > 256):\n",
    "    maxi = int(input(\"Enter a number between 0 - 255 : \")) \n",
    "    \n",
    "all_multiple = []\n",
    "for i in range(1,maxi):\n",
    "    if x%i == 0:\n",
    "        all_multiple.append(i)\n",
    "print(\"All multiple of x : \",all_multiple) \n",
    "      "
   ]
  }
 ],
 "metadata": {
  "kernelspec": {
   "display_name": "Python 3 (ipykernel)",
   "language": "python",
   "name": "python3"
  },
  "language_info": {
   "codemirror_mode": {
    "name": "ipython",
    "version": 3
   },
   "file_extension": ".py",
   "mimetype": "text/x-python",
   "name": "python",
   "nbconvert_exporter": "python",
   "pygments_lexer": "ipython3",
   "version": "3.9.12"
  }
 },
 "nbformat": 4,
 "nbformat_minor": 5
}
