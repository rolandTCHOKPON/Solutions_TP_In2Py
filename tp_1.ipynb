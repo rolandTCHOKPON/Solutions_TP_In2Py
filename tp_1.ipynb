{
 "cells": [
  {
   "cell_type": "markdown",
   "id": "22f02e1a",
   "metadata": {
    "id": "22f02e1a"
   },
   "source": [
    "\n",
    "### <center> <b> <span style=\"color:blue;\"> Travaux Pratiques: Variables, Types & Opérations </span> </b></center>"
   ]
  },
  {
   "cell_type": "markdown",
   "id": "ddc667e7",
   "metadata": {
    "id": "ddc667e7"
   },
   "source": [
    "**Exercise 00:**  \n",
    ">\n",
    "\n",
    "  \n",
    "> 1. Déclarez une variable `prenom` et attribuez-lui une valeur.\n",
    "  > 2. Déclarez une variable `nom` et attribuez-lui une valeur.\n",
    "  > 3. Déclarez une variable `prenom_nom` et attribuez-lui une valeur.\n",
    "  > 4. Déclarez une variable `pays` et attribuez-lui une valeur.\n",
    "  > 5. Déclarez une variable `ville` et attribuez-lui une valeur.\n",
    "  > 6. Déclarez une variable `age` et attribuez-lui une valeur.\n",
    "  > 7. Déclarez une variable `annee` et attribuez-lui une valeur.\n",
    "  > 8. Déclarez une variable `est_marie` et attribuez-lui une valeur.\n",
    "  > 9. Déclarez une variable `est_vrai` et attribuez-lui une valeur.\n",
    "\n",
    "> Pour chacune des variables ci-dessus, affichez la valeur qu'elle contient à l'aide de la fonction `print()`.\n",
    "\n"
   ]
  },
  {
   "cell_type": "markdown",
   "id": "a8d555bb",
   "metadata": {},
   "source": [
    "Exercice 00 : Declarons une variable, attribuons une valeur et affichons cette dernière"
   ]
  },
  {
   "cell_type": "code",
   "execution_count": 2,
   "id": "ebd3951d",
   "metadata": {
    "id": "ebd3951d"
   },
   "outputs": [
    {
     "name": "stdout",
     "output_type": "stream",
     "text": [
      "Roland\n",
      "TCHOKPON\n",
      "RolandTCHOKPON\n",
      "Benin\n",
      "cotonou\n",
      "25\n",
      "1996\n",
      "Celibataire\n",
      "vrai\n"
     ]
    }
   ],
   "source": [
    "prenom = \"Roland\"\n",
    "print(prenom)\n",
    "nom = \"TCHOKPON\"\n",
    "print(nom)\n",
    "prenom_nom = prenom + nom\n",
    "print(prenom_nom)\n",
    "pays = \"Benin\"\n",
    "print(pays)\n",
    "ville = \"cotonou\"\n",
    "print(ville)\n",
    "age = 25\n",
    "print(age)\n",
    "annee = 1996\n",
    "print(annee)\n",
    "est_marie = \"Celibataire\"\n",
    "print(est_marie)\n",
    "est_vrai = \"vrai\"\n",
    "print(est_vrai)"
   ]
  },
  {
   "cell_type": "markdown",
   "id": "85eb4f96",
   "metadata": {
    "id": "85eb4f96"
   },
   "source": [
    "**Exercise 01:** \n",
    "> Vérifiez le type de données de toutes vos variables à l'aide de la fonction intégrée `type()`.**\n"
   ]
  },
  {
   "cell_type": "markdown",
   "id": "4aba8fdb",
   "metadata": {},
   "source": [
    "Exercice 01 : verifions le type de chaque variable"
   ]
  },
  {
   "cell_type": "code",
   "execution_count": 8,
   "id": "c5c47124",
   "metadata": {
    "id": "c5c47124"
   },
   "outputs": [
    {
     "data": {
      "text/plain": [
       "int"
      ]
     },
     "execution_count": 8,
     "metadata": {},
     "output_type": "execute_result"
    }
   ],
   "source": [
    "#type(prenom)\n",
    "#type(nom)\n",
    "#type(prenom_nom)\n",
    "#type(ville)\n",
    "type(age)\n",
    "#type (annee)\n",
    "#type(est_marie)\n",
    "#type(est_vrai)\n",
    "# Décommenter pour avoir le type "
   ]
  },
  {
   "cell_type": "markdown",
   "id": "76cdc19b",
   "metadata": {
    "id": "76cdc19b"
   },
   "source": [
    "**Exercise 02:** \n",
    "> Calculez la valeur de $y$ ($y = x^2 + 6x + 9$). Essayez d'utiliser différentes valeurs de $x$ et déterminez à quelle valeur de $x$ $y$ sera égal à 0.**"
   ]
  },
  {
   "cell_type": "markdown",
   "id": "f24fa4e5",
   "metadata": {},
   "source": [
    "Exercice 02 Calculons y pour différentes valeurs de x "
   ]
  },
  {
   "cell_type": "code",
   "execution_count": 9,
   "id": "fb4df11a",
   "metadata": {
    "id": "fb4df11a"
   },
   "outputs": [],
   "source": [
    "#1ère Valeur de x\n",
    "x = 1"
   ]
  },
  {
   "cell_type": "code",
   "execution_count": 13,
   "id": "b1505ff9",
   "metadata": {
    "scrolled": true
   },
   "outputs": [
    {
     "name": "stdout",
     "output_type": "stream",
     "text": [
      "16\n"
     ]
    }
   ],
   "source": [
    "y = (x*x) + 6 * x + 9\n",
    "print(y)"
   ]
  },
  {
   "cell_type": "code",
   "execution_count": 14,
   "id": "0e63292f",
   "metadata": {},
   "outputs": [
    {
     "name": "stdout",
     "output_type": "stream",
     "text": [
      "49\n"
     ]
    }
   ],
   "source": [
    "#2eme Valeur de x\n",
    "x = 4\n",
    "y = (x * x) + 6 * x + 9\n",
    "print(y)"
   ]
  },
  {
   "cell_type": "code",
   "execution_count": null,
   "id": "60011d59",
   "metadata": {},
   "outputs": [],
   "source": []
  },
  {
   "cell_type": "markdown",
   "id": "8f40e3ab",
   "metadata": {
    "id": "8f40e3ab"
   },
   "source": [
    "**Exercise 03:** \n",
    ">    \n",
    "\n",
    "     1. Déclarez votre âge sous forme de variable entière\n",
    "     2. Déclarez votre taille en tant que variable flottante\n",
    "     3. Déclarez une variable qui stocke la base et la hauteur d'un triangle. Calculez l'aire de ce triangle (aire = 0,5 x b x h)."
   ]
  },
  {
   "cell_type": "markdown",
   "id": "221ee6fc",
   "metadata": {},
   "source": [
    "Exercice 03 :\n",
    "1. Declarons un age sous forme de variable entière :"
   ]
  },
  {
   "cell_type": "code",
   "execution_count": null,
   "id": "rpAlhgG_9A5z",
   "metadata": {
    "id": "rpAlhgG_9A5z"
   },
   "outputs": [],
   "source": [
    "age = 25"
   ]
  },
  {
   "cell_type": "markdown",
   "id": "fbb2bc31",
   "metadata": {},
   "source": [
    "2. Declarons une taille en tant que variable flottante"
   ]
  },
  {
   "cell_type": "code",
   "execution_count": null,
   "id": "c991453f",
   "metadata": {},
   "outputs": [],
   "source": [
    "taille = 1.75"
   ]
  },
  {
   "cell_type": "markdown",
   "id": "39518abd",
   "metadata": {},
   "source": [
    "3. - Déclarons une variable qui stock la base et la hauteur d'un triangle"
   ]
  },
  {
   "cell_type": "code",
   "execution_count": 15,
   "id": "5719d6bf",
   "metadata": {},
   "outputs": [],
   "source": [
    "b = 3\n",
    "h = 5"
   ]
  },
  {
   "cell_type": "code",
   "execution_count": null,
   "id": "a04eb9e0",
   "metadata": {},
   "outputs": [],
   "source": [
    "- Calculons laire de ce triangle"
   ]
  },
  {
   "cell_type": "code",
   "execution_count": 17,
   "id": "c578e67a",
   "metadata": {},
   "outputs": [
    {
     "name": "stdout",
     "output_type": "stream",
     "text": [
      "7.5\n"
     ]
    }
   ],
   "source": [
    "aire = 0.5 * b * h\n",
    "print(aire)"
   ]
  },
  {
   "cell_type": "markdown",
   "id": "9957391d",
   "metadata": {
    "id": "9957391d"
   },
   "source": [
    "## *Astuce : recevoir les entrées de l'utilisateur *\n",
    "**Pour recevoir une entrée de l'utilisateur, nous utilisons `input()`.**.\n",
    "\n",
    "**Exemple**\n",
    "Recevez deux nombres en entrée de l'utilisateur et calculez leur puissance :\n",
    "```python\n",
    "base = input(\"Entrez une base : \")\n",
    "exposant = input(\"Entrez un exposant : \")\n",
    "resultat = float(base) ** float(exposant)\n",
    "print(f \"{base} à la puissance {exposant} = {résultat}\")\n",
    "```"
   ]
  },
  {
   "cell_type": "markdown",
   "id": "0fb34716",
   "metadata": {
    "id": "0fb34716"
   },
   "source": [
    "**Exercise 04:** \n",
    "> **Write a small code that asks the user to enter the side $a$, the side $b$ and the side $c$ of a triangle. Calculate the perimeter of the triangle (perimeter = a + b + c).**"
   ]
  },
  {
   "cell_type": "markdown",
   "id": "9151df89",
   "metadata": {},
   "source": []
  },
  {
   "cell_type": "code",
   "execution_count": 19,
   "id": "6618f067",
   "metadata": {
    "id": "6618f067"
   },
   "outputs": [
    {
     "name": "stdout",
     "output_type": "stream",
     "text": [
      "Entrez le premier cote d'un triangle : 5\n",
      "Entrez le second cote d'un triangle : 8\n",
      "Entrez le troixième cote du triangle : 7\n"
     ]
    }
   ],
   "source": [
    "a = input(\"Entrez le premier cote du triangle : \")\n",
    "b = input(\"Entrez le second cote du triangle : \")\n",
    "c = input(\"Entrez le troixième cote du triangle : \")"
   ]
  },
  {
   "cell_type": "code",
   "execution_count": 21,
   "id": "50d2dfdc",
   "metadata": {},
   "outputs": [
    {
     "name": "stdout",
     "output_type": "stream",
     "text": [
      "20.0\n"
     ]
    }
   ],
   "source": [
    "perimetre = float(a) + float(b) + float(c)\n",
    "print(perimetre)"
   ]
  },
  {
   "cell_type": "markdown",
   "id": "e482c15c",
   "metadata": {
    "id": "e482c15c"
   },
   "source": [
    "**Exercise 05:** \n",
    "> **Obtenez la longueur et la largeur d'un rectangle à l'aide de l'invite. Calculer sa `superficie` et son `perimetre`.**"
   ]
  },
  {
   "cell_type": "code",
   "execution_count": 22,
   "id": "286cec4c",
   "metadata": {
    "id": "286cec4c"
   },
   "outputs": [
    {
     "name": "stdout",
     "output_type": "stream",
     "text": [
      "Veuillez saisir la longueur du triangle : 2\n",
      "Veuillez saisir la largeur du triangle : 2\n",
      "4.0\n",
      "8.0\n"
     ]
    }
   ],
   "source": [
    "longueur = input(\"Veuillez saisir la longueur du triangle : \")\n",
    "largeur = input(\"Veuillez saisir la largeur du triangle : \")\n",
    "superficie = float(longueur) * float(largeur)\n",
    "print(superficie)\n",
    "perimetre = (float(longueur) + float(largeur))*2\n",
    "print(perimetre)"
   ]
  },
  {
   "cell_type": "markdown",
   "id": "cf15844c",
   "metadata": {
    "id": "cf15844c"
   },
   "source": [
    "**Exercice 06:** \n",
    "> **Obtenez le rayon d'un cercle en utilisant l'invite. Calculez l'aire (aire = pi x r x r) et la circonférence (c = 2 x pi x r) où pi = 3,14.**"
   ]
  },
  {
   "cell_type": "code",
   "execution_count": 27,
   "id": "ee0ee85e",
   "metadata": {
    "id": "ee0ee85e"
   },
   "outputs": [
    {
     "name": "stdout",
     "output_type": "stream",
     "text": [
      "Veuillez saisir le rayon du cercle :10\n",
      "314.0\n",
      "62.800000000000004\n"
     ]
    }
   ],
   "source": [
    "\n",
    "rayon = input(\"Veuillez saisir le rayon du cercle :\")\n",
    "aire = 3.14 * float(rayon) * float(rayon)\n",
    "print(aire)\n",
    "\n",
    "circonference = 2 * 3.14 * float(rayon)\n",
    "print(circonference)"
   ]
  },
  {
   "cell_type": "markdown",
   "id": "d9dec37a",
   "metadata": {
    "id": "d9dec37a"
   },
   "source": [
    "**Exercice 07:**\n",
    "> **Calculez la pente, l'ordonnée à l'origine en x et l'ordonnée à l'origine en $y$ de $y = 2x -2$.**"
   ]
  },
  {
   "cell_type": "code",
   "execution_count": 32,
   "id": "203e449c",
   "metadata": {
    "id": "203e449c"
   },
   "outputs": [
    {
     "name": "stdout",
     "output_type": "stream",
     "text": [
      "La pente vaut :  2.0\n"
     ]
    }
   ],
   "source": [
    "x1 = 3\n",
    "y1 = 2 * x1 - 2\n",
    "\n",
    "x2 = 2\n",
    "y2 = 2 * x2 - 2\n",
    "pente = (y2 - y1)/(x2 - x1)\n",
    "print(\"La pente vaut : \",pente)\n"
   ]
  },
  {
   "cell_type": "markdown",
   "id": "2f74d685",
   "metadata": {
    "id": "2f74d685"
   },
   "source": [
    "**Exercice 08:** \n",
    "> **Rédigez un script qui demande à l'utilisateur d'entrer les heures et le taux horaire. Calculez la rémunération de la personne ?**"
   ]
  },
  {
   "cell_type": "code",
   "execution_count": 37,
   "id": "7cff5a0a",
   "metadata": {
    "id": "7cff5a0a"
   },
   "outputs": [
    {
     "name": "stdout",
     "output_type": "stream",
     "text": [
      "Veuillez saisir une heure : 2\n",
      "Veuillez saisir le taux horaire :1.8\n",
      "La remuneration vaut :  3.6\n"
     ]
    }
   ],
   "source": [
    "heures = input(\"Veuillez saisir une heure : \")\n",
    "taux_horaire = input(\"Veuillez saisir le taux horaire :\")\n",
    "remuneration = int(heures) * float(taux_horaire)\n",
    "print(\"La remuneration vaut : \", remuneration)"
   ]
  },
  {
   "cell_type": "markdown",
   "id": "6ddd662c",
   "metadata": {
    "id": "6ddd662c"
   },
   "source": [
    "**Exercice 09:** \n",
    "> **Écrivez un script qui demande à l'utilisateur d'entrer le nombre d'années. Calculez le nombre de secondes qu'une personne peut vivre. Supposons qu'une personne puisse vivre cent ans.**"
   ]
  },
  {
   "cell_type": "code",
   "execution_count": 39,
   "id": "44c2a63c",
   "metadata": {
    "id": "44c2a63c"
   },
   "outputs": [
    {
     "name": "stdout",
     "output_type": "stream",
     "text": [
      "Veuillez saisir le nombre d'annee : 25\n",
      "Il vous reste  7884000000 secondes à vivre.\n"
     ]
    }
   ],
   "source": [
    "annee = input(\"Veuillez saisir le nombre d'annee : \")\n",
    "nombre_seconde = int(annee) * 315360000\n",
    "print(\"Il vous reste \",nombre_seconde,\"secondes à vivre.\")"
   ]
  },
  {
   "cell_type": "markdown",
   "id": "9b253387",
   "metadata": {
    "id": "9b253387"
   },
   "source": [
    "**Exercice 10:** \n",
    "> **Écrivez un script Python qui affiche le tableau suivant**\n",
    "\n",
    "    1 1 1 1 1\n",
    "    \n",
    "    2 1 2 4 8\n",
    "    \n",
    "    3 1 3 9 27\n",
    "    \n",
    "    4 1 4 16 64\n",
    "    \n",
    "    5 1 5 25 125"
   ]
  },
  {
   "cell_type": "code",
   "execution_count": 42,
   "id": "aa2dae84",
   "metadata": {
    "id": "aa2dae84"
   },
   "outputs": [
    {
     "name": "stdout",
     "output_type": "stream",
     "text": [
      "[1, 1, 1, 1, 1]\n",
      "[2, 1, 2, 4, 8]\n",
      "[3, 1, 3, 9, 27]\n",
      "[4, 1, 4, 16, 64]\n",
      "[5, 1, 5, 25, 125]\n"
     ]
    }
   ],
   "source": [
    "Liste_1 = [1,1,1,1,1]\n",
    "Liste_2 = [2,1,2,4,8]\n",
    "Liste_3 = [3,1,3,9,27]\n",
    "Liste_4 = [4,1,4,16,64]\n",
    "Liste_5 = [5,1,5,25,125]\n",
    "\n",
    "print(Liste_1)\n",
    "print(Liste_2)\n",
    "print(Liste_3)\n",
    "print(Liste_4)\n",
    "print(Liste_5)"
   ]
  },
  {
   "cell_type": "markdown",
   "id": "953e7d8c",
   "metadata": {
    "id": "953e7d8c"
   },
   "source": [
    "**Exercise 11:** \n",
    ">**Attribuez aux variables `temps` et `distance` les valeurs $6.892$ et $19.7$. Calculer et afficher la valeur de la vitesse. Améliorer l'affichage en imposant un chiffre après la virgule.**"
   ]
  },
  {
   "cell_type": "code",
   "execution_count": 46,
   "id": "6d787289",
   "metadata": {
    "id": "6d787289"
   },
   "outputs": [
    {
     "name": "stdout",
     "output_type": "stream",
     "text": [
      "2.86\n"
     ]
    }
   ],
   "source": [
    "temps = 6.892\n",
    "distance= 19.7\n",
    "\n",
    "vitesse = distance/temps\n",
    "\n",
    "print(round(vitesse,1))"
   ]
  },
  {
   "cell_type": "markdown",
   "id": "2d0f1ff9",
   "metadata": {
    "id": "2d0f1ff9"
   },
   "source": [
    "**Exercice 12:** \n",
    "> **Écrire un programme qui, à partir de la saisie d’un rayon et d’une hauteur, calcule levolume d’un cône droit.**"
   ]
  },
  {
   "cell_type": "code",
   "execution_count": 49,
   "id": "969f5f68",
   "metadata": {
    "id": "969f5f68"
   },
   "outputs": [
    {
     "name": "stdout",
     "output_type": "stream",
     "text": [
      "Veuillez saisir le rayon du cône : 2\n",
      "Veuillez saisir la hauteur : 2\n",
      "le volume d'un cône droit :  8.373333333333333\n"
     ]
    }
   ],
   "source": [
    "rayon = input(\"Veuillez saisir le rayon du cône : \")\n",
    "hauteur = input(\"Veuillez saisir la hauteur : \")\n",
    "\n",
    "volume = (3.14*float(rayon)*float(rayon)* float(hauteur))/3\n",
    "print(\"le volume d'un cône droit : \",volume)"
   ]
  },
  {
   "cell_type": "markdown",
   "id": "e9b3ce2a",
   "metadata": {
    "id": "e9b3ce2a"
   },
   "source": [
    "**Exercise 13:** \n",
    "> **L'utilisateur donne un entier positif et le programme annonce combien de fois de suite cet entier est divisible par 2.**"
   ]
  },
  {
   "cell_type": "code",
   "execution_count": null,
   "id": "5c8fea9a",
   "metadata": {
    "id": "5c8fea9a"
   },
   "outputs": [],
   "source": []
  },
  {
   "cell_type": "markdown",
   "id": "0485aed6",
   "metadata": {
    "id": "0485aed6"
   },
   "source": [
    "**Exercise 14:** \n",
    ">**L'utilisateur donne un nombre entier entre 2 et 12, le programme donne le nombre de façons de le faire en lançant deux dés.**"
   ]
  },
  {
   "cell_type": "code",
   "execution_count": null,
   "id": "31f48a15",
   "metadata": {
    "id": "31f48a15"
   },
   "outputs": [],
   "source": []
  },
  {
   "cell_type": "markdown",
   "id": "cead0c8f",
   "metadata": {
    "id": "cead0c8f"
   },
   "source": [
    "**Exercice 15:** \n",
    "> **Utilisez la fonction d'entrée intégrée `input()` pour obtenir le `_prénom_`, le `_nom_`, le `_pays_d_origine` et l'`_age_` d'un utilisateur et stockez la valeur dans les noms des variables correspondantes.**"
   ]
  },
  {
   "cell_type": "code",
   "execution_count": null,
   "id": "0a2694a9",
   "metadata": {
    "id": "0a2694a9"
   },
   "outputs": [],
   "source": []
  },
  {
   "cell_type": "markdown",
   "id": "33240a56",
   "metadata": {
    "id": "33240a56"
   },
   "source": [
    "**Exercice 16:** \n",
    "\n",
    "**Déclarer $5$ comme `num_one` et $4$ comme `num_two`**\n",
    "\n",
    "   1. Additionner `num_one` et `num_two` et affecter la valeur à une variable `totale`.\n",
    "   2. Soustraire `num_two` de `num_one` et affecter la valeur à une variable `diff`.\n",
    "   3. Multipliez le `num_one` et le `num_two` et attribuez la valeur à une variable `produit`.\n",
    "   4. Divisez le `num_one` par le `num_two` et attribuez la valeur à une variable `division`.\n",
    "   5. Calculez `num_one` à la puissance de `num_two` et attribuez la valeur à une variable `exp`."
   ]
  },
  {
   "cell_type": "code",
   "execution_count": null,
   "id": "c2f3e814",
   "metadata": {
    "id": "c2f3e814"
   },
   "outputs": [],
   "source": []
  },
  {
   "cell_type": "markdown",
   "id": "80763237",
   "metadata": {
    "id": "80763237"
   },
   "source": [
    "<center> <b> <span style=\"color:orange;\"> 🎉 FÉLICITATIONS! 🎉 </span> </b></center>"
   ]
  }
 ],
 "metadata": {
  "colab": {
   "collapsed_sections": [],
   "name": "In2Py_TP_01.ipynb",
   "provenance": []
  },
  "kernelspec": {
   "display_name": "Python 3 (ipykernel)",
   "language": "python",
   "name": "python3"
  },
  "language_info": {
   "codemirror_mode": {
    "name": "ipython",
    "version": 3
   },
   "file_extension": ".py",
   "mimetype": "text/x-python",
   "name": "python",
   "nbconvert_exporter": "python",
   "pygments_lexer": "ipython3",
   "version": "3.9.12"
  }
 },
 "nbformat": 4,
 "nbformat_minor": 5
}
