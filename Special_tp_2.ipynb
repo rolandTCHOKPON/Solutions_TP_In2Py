{
 "cells": [
  {
   "cell_type": "markdown",
   "id": "66ab3790",
   "metadata": {},
   "source": [
    "# Special TP 2"
   ]
  },
  {
   "cell_type": "markdown",
   "id": "88030d42",
   "metadata": {},
   "source": [
    "1. Compute the value of expression :"
   ]
  },
  {
   "cell_type": "code",
   "execution_count": 5,
   "id": "e49da782",
   "metadata": {},
   "outputs": [
    {
     "name": "stdout",
     "output_type": "stream",
     "text": [
      "Enter x :1\n",
      "Enter y :1\n",
      "Value of expression with x =  1  and y =  1 is : 3.0971555319888884\n"
     ]
    }
   ],
   "source": [
    "import  math \n",
    "x = int(input(\"Enter x :\"))\n",
    "y = int(input(\"Enter y :\"))\n",
    "print(\"Value of expression with x = \",x,\" and y = \",y,\"is :\",math.sqrt(x**2+y)/(1/x)+2*math.sin(y))"
   ]
  },
  {
   "cell_type": "markdown",
   "id": "853cd7f8",
   "metadata": {},
   "source": [
    "2. Calculates power"
   ]
  },
  {
   "cell_type": "code",
   "execution_count": 7,
   "id": "8981e12e",
   "metadata": {},
   "outputs": [
    {
     "name": "stdout",
     "output_type": "stream",
     "text": [
      "0.125\n"
     ]
    }
   ],
   "source": [
    "def ownpowerfn(b,n): \n",
    "    \"Calculates b^n with different conditions of n\"\n",
    "    if(n > 0):\n",
    "        c = b**n\n",
    "        print(c)\n",
    "    elif(n < 0):\n",
    "        c = 1/b**(-n)\n",
    "        print(c)\n",
    "ownpowerfn(2,-3)           "
   ]
  },
  {
   "cell_type": "markdown",
   "id": "5dabac27",
   "metadata": {},
   "source": [
    "3. a Arithmetic & geometric mean"
   ]
  },
  {
   "cell_type": "code",
   "execution_count": 9,
   "id": "46dda803",
   "metadata": {},
   "outputs": [
    {
     "data": {
      "text/plain": [
       "1.5"
      ]
     },
     "execution_count": 9,
     "metadata": {},
     "output_type": "execute_result"
    }
   ],
   "source": [
    "def arithmetic_mean(a,b):\n",
    "    \"Computes arithmetic mean of two number a,b\"\n",
    "    return (a+b)/2 \n",
    "arithmetic_mean(1,2)"
   ]
  },
  {
   "cell_type": "code",
   "execution_count": 10,
   "id": "59fc8961",
   "metadata": {},
   "outputs": [
    {
     "data": {
      "text/plain": [
       "1.4142135623730951"
      ]
     },
     "execution_count": 10,
     "metadata": {},
     "output_type": "execute_result"
    }
   ],
   "source": [
    "import math\n",
    "def geometric_mean(a,b):\n",
    "    \"Computes geometric mean of two number a,b\"\n",
    "    return math.sqrt(a*b)\n",
    "geometric_mean(1,2)"
   ]
  },
  {
   "cell_type": "markdown",
   "id": "960802b0",
   "metadata": {},
   "source": [
    "b. Celcius & Fahrenheit"
   ]
  },
  {
   "cell_type": "code",
   "execution_count": 13,
   "id": "5a7a55e3",
   "metadata": {},
   "outputs": [
    {
     "data": {
      "text/plain": [
       "100.4"
      ]
     },
     "execution_count": 13,
     "metadata": {},
     "output_type": "execute_result"
    }
   ],
   "source": [
    "def celcius_to_fahrenheit(C):\n",
    "    \"Convert celcius to fahrenheit\"\n",
    "    return float(C) * (9/5) + 32\n",
    "celcius_to_fahrenheit(38)"
   ]
  },
  {
   "cell_type": "code",
   "execution_count": 58,
   "id": "9c06e24e",
   "metadata": {},
   "outputs": [
    {
     "data": {
      "text/plain": [
       "40.78"
      ]
     },
     "execution_count": 58,
     "metadata": {},
     "output_type": "execute_result"
    }
   ],
   "source": [
    "def fahrenheit_to_celcius(F):\n",
    "    \"Convert fahrenheit to celcius\"\n",
    "    return (5/9)*(F-32)\n",
    "round(fahrenheit_to_celcius(105.4),2)"
   ]
  },
  {
   "cell_type": "markdown",
   "id": "a28c311e",
   "metadata": {},
   "source": [
    "c. Degree & radians"
   ]
  },
  {
   "cell_type": "code",
   "execution_count": 59,
   "id": "a3df6961",
   "metadata": {},
   "outputs": [
    {
     "data": {
      "text/plain": [
       "286.624"
      ]
     },
     "execution_count": 59,
     "metadata": {},
     "output_type": "execute_result"
    }
   ],
   "source": [
    "def degree_to_radians(radians):\n",
    "    \"Convert degree to radians\"\n",
    "    return (180*radians)/3.14\n",
    "round(degree_of_radians(5),3)"
   ]
  },
  {
   "cell_type": "code",
   "execution_count": 23,
   "id": "b88b49ab",
   "metadata": {},
   "outputs": [
    {
     "data": {
      "text/plain": [
       "0.08722222222222223"
      ]
     },
     "execution_count": 23,
     "metadata": {},
     "output_type": "execute_result"
    }
   ],
   "source": [
    "def radians_to_degree(degree):\n",
    "    \"Convert radians to degree\"\n",
    "    return (3.14*degree)/180\n",
    "radians_to_degree(5)"
   ]
  },
  {
   "cell_type": "markdown",
   "id": "49b045b1",
   "metadata": {},
   "source": [
    "d. Computes the circumference and area of circle"
   ]
  },
  {
   "cell_type": "code",
   "execution_count": 24,
   "id": "d950dece",
   "metadata": {},
   "outputs": [
    {
     "data": {
      "text/plain": [
       "31.400000000000002"
      ]
     },
     "execution_count": 24,
     "metadata": {},
     "output_type": "execute_result"
    }
   ],
   "source": [
    "def circumference_circle(radius):\n",
    "    \"Computes circumference of circle\"\n",
    "    return 2*3.14*radius\n",
    "circumference_circle(5)"
   ]
  },
  {
   "cell_type": "code",
   "execution_count": 25,
   "id": "51b5313f",
   "metadata": {},
   "outputs": [
    {
     "data": {
      "text/plain": [
       "78.5"
      ]
     },
     "execution_count": 25,
     "metadata": {},
     "output_type": "execute_result"
    }
   ],
   "source": [
    "def area_circle(radius):\n",
    "    \"Computes area of circle\"\n",
    "    return 3.14*radius*radius\n",
    "area_circle(5)"
   ]
  },
  {
   "cell_type": "markdown",
   "id": "0f1d1276",
   "metadata": {},
   "source": [
    "4.a Computes average and geometrical means"
   ]
  },
  {
   "cell_type": "code",
   "execution_count": 60,
   "id": "94750b9d",
   "metadata": {},
   "outputs": [
    {
     "name": "stdout",
     "output_type": "stream",
     "text": [
      "Arithmetic mean result :  1.5\n",
      "Geometric mean result :  1.4142135623730951\n",
      "1.5  1.4142135623730951\n",
      "1.5  1.4142135623730951\n",
      "1.5  1.4142135623730951\n",
      "1.5  1.4142135623730951\n",
      "1.5  1.4142135623730951\n",
      "1.5  1.4142135623730951\n",
      "1.5  1.4142135623730951\n",
      "1.5  1.4142135623730951\n",
      "1.5  1.4142135623730951\n",
      "1.5  1.4142135623730951\n",
      "1.5  1.4142135623730951\n"
     ]
    }
   ],
   "source": [
    "import math\n",
    "a = 1\n",
    "b = 2\n",
    "\n",
    "c = (a+b)/2\n",
    "print(\"Arithmetic mean result : \",c)\n",
    "d = math.sqrt(a*b)\n",
    "print(\"Geometric mean result : \",d)\n",
    "def avggeom(c,d):\n",
    "    \"Print 11 times of computes average and geometrical means\"\n",
    "    i = 0\n",
    "    for i in range(0,11):\n",
    "        print(c,\"\",d)\n",
    "avggeom(c,d)"
   ]
  },
  {
   "cell_type": "markdown",
   "id": "9ad37ee6",
   "metadata": {},
   "source": [
    "b. Computes distance between two point "
   ]
  },
  {
   "cell_type": "code",
   "execution_count": 61,
   "id": "d83aae31",
   "metadata": {},
   "outputs": [
    {
     "name": "stdout",
     "output_type": "stream",
     "text": [
      "Perimeter of triangle is :  12.34\n"
     ]
    }
   ],
   "source": [
    "import math\n",
    "def distance_between_two_points(a,b):\n",
    "    \"Computes distance between two points\"\n",
    "    return math.sqrt(a**2+b**2)\n",
    "\n",
    "def distancefn():\n",
    "    \"Computes perimeter of triangle\"\n",
    "    A =[1,2]\n",
    "    B =[3,4]\n",
    "    C =[1,5]\n",
    "    d1 = distance_between_two_points(A[0],A[1])\n",
    "    d2 = distance_between_two_points(B[0],B[1])\n",
    "    d3 = distance_between_two_points(C[0],C[1])\n",
    "    print(\"Perimeter of triangle is : \",round(d1+d2+d3,2))\n",
    "distancefn()    "
   ]
  },
  {
   "cell_type": "markdown",
   "id": "2e6dfa7b",
   "metadata": {},
   "source": [
    "5. Choose an option"
   ]
  },
  {
   "cell_type": "code",
   "execution_count": 56,
   "id": "bb3679e1",
   "metadata": {},
   "outputs": [
    {
     "name": "stdout",
     "output_type": "stream",
     "text": [
      "1. Evaluation the factorial\n",
      "2. Evaluation of second degree equation\n",
      "3. Exit\n",
      " Choose an option :2\n",
      "Enter a : 1\n",
      "Enter b : 4\n",
      "Enter c : 7\n",
      "no solution\n",
      "1. Evaluation the factorial\n",
      "2. Evaluation of second degree equation\n",
      "3. Exit\n",
      " Do you want to choose any option?\n",
      "(choose exit if not) :3\n"
     ]
    }
   ],
   "source": [
    "def factorial(n):\n",
    "    \"Computes factorial of number\"\n",
    "    fact = 1\n",
    "    for i in range(1,int(n)+1):\n",
    "        fact = fact * i\n",
    "    print(\"Factorial of number \",n,\"is : \",fact)\n",
    "\n",
    "def second_degree(a,b,c):\n",
    "    \"Computes discriminant\"\n",
    "    discriminant = (b*b) - (4*a*c)\n",
    "    if discriminant > 0 :\n",
    "        print(\"Two solutions\")\n",
    "    elif discriminant < 0 :\n",
    "        print(\"no solution\")\n",
    "    elif discriminant == 0 :\n",
    "        print(\"Solution double\")\n",
    "def exit():\n",
    "    \"Exit programm\"\n",
    "    print(\"+++End of programm+++\")\n",
    "    \n",
    "def fact2nddeg():\n",
    "    \"Choose option\"\n",
    "    choose = int(input(\"1. Evaluation the factorial\\n2. Evaluation of second degree equation\\n3. Exit\\n Choose an option :\"))\n",
    "    while (choose < 1)|(choose >3):\n",
    "        print(\"**Bad option**\")\n",
    "        choose = int(input(\"1. Evaluation the factorial\\n2. Evaluation of second degree equation\\n3. Exit\\n Choose an option :\"))\n",
    "    while(choose!=3):\n",
    "        if(choose == 1):\n",
    "            n = int(input(\"Enter a number : \"))\n",
    "            factorial(n)\n",
    "        elif(choose == 2):\n",
    "            a = int(input(\"Enter a : \"))\n",
    "            b = int(input(\"Enter b : \"))\n",
    "            c = int(input(\"Enter c : \"))\n",
    "            second_degree(a,b,c)\n",
    "        elif(choose == 3):\n",
    "            exit()\n",
    "        choose = int(input(\"1. Evaluation the factorial\\n2. Evaluation of second degree equation\\n3. Exit\\n Do you want to choose any option?\\n(choose exit if not) :\"))\n",
    "fact2nddeg()"
   ]
  },
  {
   "cell_type": "markdown",
   "id": "ce16ed3a",
   "metadata": {},
   "source": [
    "6. Power function"
   ]
  },
  {
   "cell_type": "code",
   "execution_count": 68,
   "id": "0e9f1a31",
   "metadata": {},
   "outputs": [
    {
     "data": {
      "text/plain": [
       "140.60800000000003"
      ]
     },
     "execution_count": 68,
     "metadata": {},
     "output_type": "execute_result"
    }
   ],
   "source": [
    "def power(x,n):\n",
    "    \"Computes power of x\"\n",
    "    if n == 0:\n",
    "        return 1\n",
    "    elif n > 0:\n",
    "        return x*(x**n)\n",
    "power(5.2,2)    "
   ]
  },
  {
   "cell_type": "markdown",
   "id": "8b79387a",
   "metadata": {},
   "source": [
    "7. Fibonacci 100 termes"
   ]
  },
  {
   "cell_type": "code",
   "execution_count": 71,
   "id": "08aa51ad",
   "metadata": {},
   "outputs": [
    {
     "name": "stdout",
     "output_type": "stream",
     "text": [
      "[0, 1, 1, 2, 3, 5, 8, 13, 21, 34, 55, 89, 144, 233, 377, 610, 987, 1597, 2584, 4181, 6765, 10946, 17711, 28657, 46368, 75025, 121393, 196418, 317811, 514229, 832040, 1346269, 2178309, 3524578, 5702887, 9227465, 14930352, 24157817, 39088169, 63245986, 102334155, 165580141, 267914296, 433494437, 701408733, 1134903170, 1836311903, 2971215073, 4807526976, 7778742049, 12586269025, 20365011074, 32951280099, 53316291173, 86267571272, 139583862445, 225851433717, 365435296162, 591286729879, 956722026041, 1548008755920, 2504730781961, 4052739537881, 6557470319842, 10610209857723, 17167680177565, 27777890035288, 44945570212853, 72723460248141, 117669030460994, 190392490709135, 308061521170129, 498454011879264, 806515533049393, 1304969544928657, 2111485077978050, 3416454622906707, 5527939700884757, 8944394323791464, 14472334024676221, 23416728348467685, 37889062373143906, 61305790721611591, 99194853094755497, 160500643816367088, 259695496911122585, 420196140727489673, 679891637638612258, 1100087778366101931, 1779979416004714189, 2880067194370816120, 4660046610375530309, 7540113804746346429, 12200160415121876738, 19740274219868223167, 31940434634990099905, 51680708854858323072, 83621143489848422977, 135301852344706746049, 218922995834555169026, 354224848179261915075]\n"
     ]
    }
   ],
   "source": [
    "Fibonacci = [0]*101\n",
    "Fibonacci[0] = 0\n",
    "Fibonacci[1] = 1\n",
    "\n",
    "for i in range(2,101):\n",
    "    Fibonacci[i] = Fibonacci[i-1] + Fibonacci[i-2]\n",
    "    \n",
    "print(Fibonacci)    "
   ]
  }
 ],
 "metadata": {
  "kernelspec": {
   "display_name": "Python 3 (ipykernel)",
   "language": "python",
   "name": "python3"
  },
  "language_info": {
   "codemirror_mode": {
    "name": "ipython",
    "version": 3
   },
   "file_extension": ".py",
   "mimetype": "text/x-python",
   "name": "python",
   "nbconvert_exporter": "python",
   "pygments_lexer": "ipython3",
   "version": "3.9.12"
  }
 },
 "nbformat": 4,
 "nbformat_minor": 5
}
