{
 "cells": [
  {
   "cell_type": "markdown",
   "id": "8e91885d",
   "metadata": {},
   "source": [
    "<h1>DJANGO</h1>"
   ]
  },
  {
   "cell_type": "markdown",
   "id": "c1a7e818",
   "metadata": {
    "raw_mimetype": "text/markdown"
   },
   "source": [
    "1. <b>Qu'est ce que DJANGO ?</b>\n",
    "\n",
    "      Django est un framework Python de haut niveau, permettant un développement rapide de sites internet, sécurisés, et maintenables."
   ]
  },
  {
   "cell_type": "markdown",
   "id": "3557a36f",
   "metadata": {},
   "source": [
    "2. <b>Comment fonctionne Django ?</b>\n",
    "\n",
    "  Django suit un model de conception MVT (Model View Template)\n",
    "      \n",
    "              -> Model : Le modèle fournit des données de la base de données.Dans Django, les données sont fournies sous la forme d'un mappage relationnel objet (ORM), qui est une technique conçue pour faciliter le travail avec les bases de données.Django, avec ORM, facilite la communication avec la base de données, sans avoir à écrire des instructions SQL complexes.Les modèles sont généralement situés dans un fichier appelé <models.py>. \n",
    "          \n",
    "             -> View : Une vue est une fonction ou une méthode qui prend les requêtes http comme arguments, importe le ou les modèles pertinents, détermine les données à envoyer au modèle et renvoie le résultat final.Les vues sont généralement situées dans un fichier appelé <views.py>.\n",
    "          \n",
    "             -> Template : Un fichier texte (comme un fichier HTML) contenant la mise en page de la page Web, avec une logique sur la façon d'afficher les données.\n",
    "              \n",
    "             "
   ]
  },
  {
   "cell_type": "markdown",
   "id": "52de791c",
   "metadata": {},
   "source": [
    "3. <b>Comment l'installer ?</b> \n",
    "         \n",
    "       -> Installer python au prealable \n",
    "           \n",
    "       Sous linux : python est intégré par defaut\n",
    "       Vérifier avec la synthaxe:"
   ]
  },
  {
   "cell_type": "code",
   "execution_count": null,
   "id": "ea2af772",
   "metadata": {},
   "outputs": [],
   "source": [
    "py --version #en ligne de commande"
   ]
  },
  {
   "cell_type": "markdown",
   "id": "86dde3cd",
   "metadata": {},
   "source": [
    "        Sous Windows : elle se fait grâce à un fichier .exe et l'installation s'effectue intuitivement. Vérifier après installation avec la même commande que celle de linux. "
   ]
  },
  {
   "cell_type": "markdown",
   "id": "a19528ff",
   "metadata": {},
   "source": [
    "       -> Environnement Virtuel\n",
    "       \n",
    "       Suite à l'installation de Python il est important de créer un repertoire qui contiendra votre projet. Après création de ce dit repertoire, vous vous y positionnez et creerai un environement virtuel autour de votre projet.Cette dernière servira à encapsuler le projet et à l’isoler des éventuels autres projets que vous créerez dans le futur. Pour ce fait, utilisons la syntaxe : \n",
    " "
   ]
  },
  {
   "cell_type": "code",
   "execution_count": null,
   "id": "91d7ed21",
   "metadata": {},
   "outputs": [],
   "source": [
    "py -m venv venv #à la racine du repertoire créer"
   ]
  },
  {
   "cell_type": "markdown",
   "id": "33bbcfa1",
   "metadata": {},
   "source": [
    "        On doit ensuite activer l’environnement virtuel fraichement créé à l’aide d’un script, comme ceci :"
   ]
  },
  {
   "cell_type": "code",
   "execution_count": null,
   "id": "c748adfa",
   "metadata": {},
   "outputs": [],
   "source": [
    "venv\\Scripts\\activate"
   ]
  },
  {
   "cell_type": "markdown",
   "id": "7a976eed",
   "metadata": {},
   "source": [
    "        Une fois activé, vous verrez le nom de votre environnement sur la gauche de votre ligne de commande :"
   ]
  },
  {
   "cell_type": "code",
   "execution_count": null,
   "id": "50771ca1",
   "metadata": {},
   "outputs": [],
   "source": [
    "(venv) D:\\mon_projet>"
   ]
  },
  {
   "cell_type": "markdown",
   "id": "fa926e1f",
   "metadata": {},
   "source": [
    "        L'installation proprement dite de Django dans notre environnement virtuel se fera à l’aide de la commande Pip (package d'installation de Python). Avant cela, il est possible de mettre à niveau la commande Pip comme ceci :"
   ]
  },
  {
   "cell_type": "code",
   "execution_count": null,
   "id": "40e0e05f",
   "metadata": {},
   "outputs": [],
   "source": [
    "(venv) D:\\mon_projet>python -m pip install --upgrade pip"
   ]
  },
  {
   "cell_type": "markdown",
   "id": "7c569f42",
   "metadata": {},
   "source": [
    "        -> Installons maintenant Django  "
   ]
  },
  {
   "cell_type": "code",
   "execution_count": null,
   "id": "8a605dfa",
   "metadata": {},
   "outputs": [],
   "source": [
    "(venv) D:\\mon_projet>pip install django"
   ]
  },
  {
   "cell_type": "markdown",
   "id": "21799abf",
   "metadata": {},
   "source": [
    "4. <b>Comment creer un projet Django?</b>\n",
    "\n",
    "          Nous creerons notre projet Django avec la commande :"
   ]
  },
  {
   "cell_type": "code",
   "execution_count": null,
   "id": "f78cb5c1",
   "metadata": {},
   "outputs": [],
   "source": [
    "(venv) D:\\mon_projet>django-admin startproject mon_petit_projet"
   ]
  },
  {
   "cell_type": "markdown",
   "id": "1729653f",
   "metadata": {},
   "source": [
    "          Voici à quoi doit ressembler la structure de notre projet"
   ]
  },
  {
   "cell_type": "code",
   "execution_count": null,
   "id": "da3ed3b0",
   "metadata": {},
   "outputs": [],
   "source": [
    "monprojet/         \n",
    "├── mon_petit_projet/   <─── répertoire du projet Django\n",
    "│   │   ├── __init__.py <─── indique que le projet est un package Python\n",
    "│   │   ├── asgi.py     <─── utilisé pour le déploiement\n",
    "│   │   ├── settings.py <─── fichier de configuration du projet\n",
    "│   │   ├── urls.py     <─── fichier de configuration URL du projet\n",
    "│   │   └── wsgi.py     <─── utilisé pour le déploiement\n",
    "│   └── manage.py       <─── utilisé pour lancer les commandes de gestion du projet\n",
    "└── venv/               <─── répertoire de lenvironnement virtuel "
   ]
  },
  {
   "cell_type": "markdown",
   "id": "f714fa65",
   "metadata": {},
   "source": [
    "Afin de vous simplifier la vie, un serveur de développement est inclus dans l’installation de Django. Ce serveur vous permet de vous concentrer sur le développement de votre projet et de tester votre travail sans que vous n’ayez à vous soucier de la configuration d’un serveur web de production. Après avoir créé le projet, on se positionne à la racine de ce dernier et on lance le serveur de développement comme ceci :"
   ]
  },
  {
   "cell_type": "code",
   "execution_count": null,
   "id": "ab7c6e20",
   "metadata": {},
   "outputs": [],
   "source": [
    "(venv) D:\\mon_projet\\mon_petit_projet>py manage.py runserver"
   ]
  },
  {
   "cell_type": "markdown",
   "id": "7ed0831d",
   "metadata": {},
   "source": [
    "On lance ensuite notre navigateur web et on tape dans la barre URL http://127.0.0.1:8000 et on peut alors voir que notre serveur est bel et bien lancé."
   ]
  },
  {
   "cell_type": "markdown",
   "id": "bb4ae08c",
   "metadata": {},
   "source": [
    "5. <b>Comment creer une application Django?</b>"
   ]
  },
  {
   "cell_type": "markdown",
   "id": "20d12c78",
   "metadata": {},
   "source": [
    "Pour notre application, que nous nommerons « hello_word », nous utiliserons la commande :"
   ]
  },
  {
   "cell_type": "code",
   "execution_count": null,
   "id": "32fea076",
   "metadata": {},
   "outputs": [],
   "source": [
    "(venv) D:\\monprojet\\mon_projet>django-admin startapp hello_world"
   ]
  },
  {
   "cell_type": "markdown",
   "id": "91f32d47",
   "metadata": {},
   "source": [
    "Après création de l'application nous observerons l'arboscence suivante : "
   ]
  },
  {
   "cell_type": "code",
   "execution_count": null,
   "id": "06f687ee",
   "metadata": {},
   "outputs": [],
   "source": [
    "mon_projet/\n",
    "├── mon_projet/\n",
    "│   ├── hello_world/    <─ répertoire de lapplication Django\n",
    "│   │   ├── migrations/ <─ répertoire qui conserve les fichiers qui enregistrent les modifications dans \"models.py\"\n",
    "│   │   │  └── __init__.py\n",
    "│   │   ├── __init__.py <─ indique que lapplication est un package Python\n",
    "│   │   ├── admin.py   <─ fichier de configuration des pages dadministration Django\n",
    "│   │   ├── apps.py    <─ fichier de configuration de lapplication\n",
    "│   │   ├── models.py  <─ dédié à la création des modèles définissant la base de données\n",
    "│   │   ├── tests.py   <─ utilisé pour les tests unitaires\n",
    "│   │   └── views.py   <─ contient les fonctions/classes qui gèrent les requêtes/réponses web\n",
    "│   ├── mon_petit_projet/\n",
    "│   │   ├── __init__.py\n",
    "│   │   ├── asgi.py\n",
    "│   │   ├── settings.py\n",
    "│   │   ├── urls.py\n",
    "│   │   └── wsgi.py\n",
    "│   ├── db.sqlite3\n",
    "│   └── manage.py\n",
    "└── venv/"
   ]
  },
  {
   "cell_type": "markdown",
   "id": "8f9379ae",
   "metadata": {},
   "source": [
    "            -> Installation de l'application \n",
    "        \n",
    "Maintenant, nous allons effectuer les configuration nécessaires au niveau de notre projet pour pouvoir utiliser l’application nouvellement créée. Pour ce faire, il faut ouvrir le fichier « settings.py » et ajouter l’application « hello_world » à la variable INSTALLED_APPS."
   ]
  },
  {
   "cell_type": "code",
   "execution_count": null,
   "id": "5116a5e0",
   "metadata": {},
   "outputs": [],
   "source": [
    "INSTALLED_APPS = [\n",
    "    'django.contrib.admin',\n",
    "    'django.contrib.auth',\n",
    "    'django.contrib.contenttypes',\n",
    "    'django.contrib.sessions',\n",
    "    'django.contrib.messages',\n",
    "    'django.contrib.staticfiles',\n",
    "    'hello_world',\n",
    "]"
   ]
  },
  {
   "cell_type": "markdown",
   "id": "309523d3",
   "metadata": {},
   "source": [
    "            -> Création d'une vue\n",
    "        \n",
    "Après l'installation de l'application pour créerons une vue. Dans Django, les vues représentent l’ensembles des classes et des fonctions écrites dans le fichier « views.py ». Celles-ci permettent de gérer les réponses aux requêtes http.\n",
    "\n",
    "Pour écrire notre première vue, il faut ouvrir le fichier « views.py », qui se trouve dans le répertoire de l’application. On va y définir une fonction (une vue) que l’on appellera « home ». Cette fonction va appeler la fonction render(), qui prend comme paramètre une requête http (« request » en anglais) lors du chargement d’une page web et qui va nous retourner le fichier HTML « hello_world.html », que nous créerons juste après.\n",
    "\n",
    "On ajoute donc le code suivant à notre fichier « views.py » :"
   ]
  },
  {
   "cell_type": "code",
   "execution_count": null,
   "id": "f5e6c99b",
   "metadata": {},
   "outputs": [],
   "source": [
    "from django.shortcuts import render\n",
    "\n",
    "def home(request):\n",
    "    return render(request, 'hello_world.html', {})"
   ]
  },
  {
   "cell_type": "markdown",
   "id": "ce658378",
   "metadata": {},
   "source": [
    "Définissons maintenant le fichier ou Template HTML « hello_world.html », qui s’affichera à l’utilisateur. La fonction render() cherchera le Template HTML dans un répertoire dédié qu’on nommera « templates ».\n",
    "\n",
    "Nous devons donc d’abord créer, au niveau du répertoire de l’application, le répertoire « templates » , dans lequel nous créerons le fichier « hello_world.html ».\n",
    "\n",
    "On va ensuite ouvrir notre fichier HTML et y ajouter la ligne suivante :"
   ]
  },
  {
   "cell_type": "code",
   "execution_count": null,
   "id": "c77d0ef2",
   "metadata": {},
   "outputs": [],
   "source": [
    "<h1>Hello, World!</h1>"
   ]
  },
  {
   "cell_type": "markdown",
   "id": "5a9cf5f6",
   "metadata": {},
   "source": [
    "En dernier lieu, nous devons définir les URL qui nous permettront d’accéder aux pages de l’application. Ici, nous avons seulement défini une seule vue. Pour définir l’URL de celle-ci, nous devons d’abord créer le fichier « urls.py » dans le répertoire de notre application « hello_world ».\n",
    "\n",
    "Dans le fichier « urls.py », on importe l’objet path pour définir les chemins vers nos vues, ainsi que les vues de notre application « hello_world ».\n",
    "\n",
    "On crée une liste « URL patterns » pour définir les chemins des différentes vues. Nous allons créer une URL pour la fonction vue home que nous avons définie dans le fichier « views.py »."
   ]
  },
  {
   "cell_type": "code",
   "execution_count": null,
   "id": "973cd1b5",
   "metadata": {},
   "outputs": [],
   "source": [
    "from django.urls import path\n",
    "from hello_world import views\n",
    "\n",
    "urlpatterns = [\n",
    "    path('', views.home, name='home'),\n",
    "]"
   ]
  },
  {
   "cell_type": "markdown",
   "id": "09668f2c",
   "metadata": {},
   "source": [
    "Ensuite, dans le fichier « urls.py » qui se trouve au niveau du répertoire de notre projet, on doit inclure la configuration URL de notre application. On ajoute donc la ligne path('  ', include('hello_world.urls')) qui va inclure les URLs définies dans le module « hello_world.urls » (le fichier « urls.py ») que nous avons créé plus haut dans le répertoire de notre application « hello_word »."
   ]
  },
  {
   "cell_type": "code",
   "execution_count": null,
   "id": "bc3e17c9",
   "metadata": {},
   "outputs": [],
   "source": [
    "from django.contrib import admin\n",
    "from django.urls import path, include\n",
    "\n",
    "urlpatterns = [\n",
    "    path('admin/', admin.site.urls),\n",
    "    path('', include('hello_world.urls')),\n",
    "]"
   ]
  },
  {
   "cell_type": "markdown",
   "id": "98a3f59b",
   "metadata": {},
   "source": [
    "Il suffit maintenant de lancer notre serveur de développement et on obtiendra \"Hello world\" à l'affichage."
   ]
  },
  {
   "cell_type": "code",
   "execution_count": null,
   "id": "44cde67d",
   "metadata": {},
   "outputs": [],
   "source": [
    "(venv) D:\\monproject\\mon_project>py manage.py runserver"
   ]
  }
 ],
 "metadata": {
  "celltoolbar": "Format de la Cellule Texte Brut",
  "kernelspec": {
   "display_name": "Python 3 (ipykernel)",
   "language": "python",
   "name": "python3"
  },
  "language_info": {
   "codemirror_mode": {
    "name": "ipython",
    "version": 3
   },
   "file_extension": ".py",
   "mimetype": "text/x-python",
   "name": "python",
   "nbconvert_exporter": "python",
   "pygments_lexer": "ipython3",
   "version": "3.9.12"
  }
 },
 "nbformat": 4,
 "nbformat_minor": 5
}
