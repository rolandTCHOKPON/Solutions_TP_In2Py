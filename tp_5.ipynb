{
 "cells": [
  {
   "cell_type": "markdown",
   "id": "QYZn2ujP9tcA",
   "metadata": {
    "id": "QYZn2ujP9tcA"
   },
   "source": [
    "\n",
    "\n",
    "### <center> <b> <span style=\"color:blue;\"> Travaux Pratiques: Fonctions</span> </b></center>\n",
    "\n"
   ]
  },
  {
   "cell_type": "markdown",
   "id": "iMDzVKcl9tcE",
   "metadata": {
    "id": "iMDzVKcl9tcE"
   },
   "source": [
    "#### **Exercice 00:**  \n",
    "> **Écrire une fonction `cube` qui retourne le cube de son argument.**"
   ]
  },
  {
   "cell_type": "code",
   "execution_count": 11,
   "id": "e0fd857e",
   "metadata": {},
   "outputs": [],
   "source": [
    "#import math\n",
    "def cube(base):\n",
    "    \"affichage de base à la puissance 3\"\n",
    "    return pow(base,3)"
   ]
  },
  {
   "cell_type": "code",
   "execution_count": 12,
   "id": "fd4f34bd",
   "metadata": {},
   "outputs": [
    {
     "data": {
      "text/plain": [
       "27"
      ]
     },
     "execution_count": 12,
     "metadata": {},
     "output_type": "execute_result"
    }
   ],
   "source": [
    "cube(3)"
   ]
  },
  {
   "cell_type": "markdown",
   "id": "m1ac89qS9tcH",
   "metadata": {
    "id": "m1ac89qS9tcH"
   },
   "source": [
    "#### **Exercice 01:**  \n",
    "> **Déclarez une fonction `ajouter_deux_nombres`. Elle prend deux paramètres et renvoie leur somme.**"
   ]
  },
  {
   "cell_type": "code",
   "execution_count": 5,
   "id": "E_AgGmNy9tcH",
   "metadata": {
    "id": "E_AgGmNy9tcH"
   },
   "outputs": [],
   "source": [
    "def ajouter_deux_nombres(a,b):\n",
    "        \"retournela somme de a + b\"\n",
    "        return a+b "
   ]
  },
  {
   "cell_type": "code",
   "execution_count": 6,
   "id": "3db61673",
   "metadata": {},
   "outputs": [
    {
     "data": {
      "text/plain": [
       "3"
      ]
     },
     "execution_count": 6,
     "metadata": {},
     "output_type": "execute_result"
    }
   ],
   "source": [
    "ajouter_deux_nombres(1,2)"
   ]
  },
  {
   "cell_type": "markdown",
   "id": "PKjvAV4y9tcJ",
   "metadata": {
    "id": "PKjvAV4y9tcJ"
   },
   "source": [
    "#### **Exercice 02:**  \n",
    "> **L'aire d'un cercle se calcule comme suit : aire = pi x r x r avec pi=3,14. Écrivez une fonction `aire_du_cercle` qui prend le rayon en argument et calcule l'aire du cercle correspodant.**"
   ]
  },
  {
   "cell_type": "code",
   "execution_count": 7,
   "id": "AxGzHKXX9tcL",
   "metadata": {
    "id": "AxGzHKXX9tcL"
   },
   "outputs": [],
   "source": [
    "def aire_du_cercle(rayon):\n",
    "        pi = 3.14\n",
    "        aire = pi * rayon * rayon\n",
    "        \"Calcul de laire du cercle en fonction du rayon et en initialisant la valeur de pi = 3.14\"\n",
    "        print(\"L'aire du cercle vaut : \",aire)"
   ]
  },
  {
   "cell_type": "code",
   "execution_count": 8,
   "id": "670f56c3",
   "metadata": {},
   "outputs": [
    {
     "name": "stdout",
     "output_type": "stream",
     "text": [
      "L'aire du cercle vaut :  12.56\n"
     ]
    }
   ],
   "source": [
    "aire_du_cercle(2)"
   ]
  },
  {
   "cell_type": "markdown",
   "id": "6OBRL3oj9tcL",
   "metadata": {
    "id": "6OBRL3oj9tcL"
   },
   "source": [
    "#### **Exercice 03:**  \n",
    "> **La température en °C peut être convertie en °F à l'aide de cette formule : °F = (°C x 9/5) + 32. Écrivez une fonction `convert_celsius_en_fahrenheit` qui convertit les °C en °F**."
   ]
  },
  {
   "cell_type": "code",
   "execution_count": null,
   "id": "LpDPEBxn9tcN",
   "metadata": {
    "colab": {
     "base_uri": "https://localhost:8080/"
    },
    "id": "LpDPEBxn9tcN",
    "outputId": "7c62c4a2-828a-4eea-e995-a89e3acda0ed"
   },
   "outputs": [
    {
     "name": "stdout",
     "output_type": "stream",
     "text": [
      "Enter the value in celsius 80\n",
      "176.0\n"
     ]
    }
   ],
   "source": [
    "C=float(input('Enter the value in celsius '))\n",
    "def Fahre(C):\n",
    "    \"Conversion °C en °F\"\n",
    "  F=(C*9/5)+32\n",
    "  return F\n",
    "C\n",
    "print(Fahre(C))\n"
   ]
  },
  {
   "cell_type": "markdown",
   "id": "rJRPsZ2h9tcP",
   "metadata": {
    "id": "rJRPsZ2h9tcP"
   },
   "source": [
    "#### **Exercice 04:** \n",
    ">**Écrire une fonction somme avec un argument « tuple de longueur variable » qui calcule la somme des nombres contenus dans le tuple.Tester cette fonction par des appels avec différents tuples d’entiers ou de flottants.**"
   ]
  },
  {
   "cell_type": "code",
   "execution_count": 26,
   "id": "7qn8Czdc9tcP",
   "metadata": {
    "colab": {
     "base_uri": "https://localhost:8080/"
    },
    "id": "7qn8Czdc9tcP",
    "outputId": "998d9d34-3e4c-4a64-f02e-9faa0ff36abe"
   },
   "outputs": [],
   "source": [
    "def somme(mytuple):\n",
    "    x = 0\n",
    "    somme = 0\n",
    "    \"La boucle servant à parcourir le tuple\"\n",
    "    while x < len(mytuple):\n",
    "        somme = somme + mytuple[x]\n",
    "        x = x + 1  \n",
    "    return somme"
   ]
  },
  {
   "cell_type": "code",
   "execution_count": 28,
   "id": "458ffc9f",
   "metadata": {},
   "outputs": [
    {
     "data": {
      "text/plain": [
       "13.1"
      ]
     },
     "execution_count": 28,
     "metadata": {},
     "output_type": "execute_result"
    }
   ],
   "source": [
    "somme((1.5,2.6,4,5))"
   ]
  },
  {
   "cell_type": "markdown",
   "id": "kls1kYNh9tcR",
   "metadata": {
    "id": "kls1kYNh9tcR"
   },
   "source": [
    "#### **Exercice 05:** \n",
    ">**Ecrire `somme_liste` qui calcule la somme des nombres contenus dans une liste.Tester cette fonction par des appels avec différents listes d’entiers ou de flottants.**"
   ]
  },
  {
   "cell_type": "code",
   "execution_count": 29,
   "id": "e402e2bd",
   "metadata": {},
   "outputs": [],
   "source": [
    "def somme_liste(liste):\n",
    "    x = 0\n",
    "    somme = 0\n",
    "    \"La boucle servant à parcourir la liste\"\n",
    "    while x < len(liste):\n",
    "        somme = somme + liste[x]\n",
    "        x = x + 1  \n",
    "    return somme"
   ]
  },
  {
   "cell_type": "code",
   "execution_count": 30,
   "id": "43d145c8",
   "metadata": {},
   "outputs": [
    {
     "data": {
      "text/plain": [
       "14"
      ]
     },
     "execution_count": 30,
     "metadata": {},
     "output_type": "execute_result"
    }
   ],
   "source": [
    "somme_liste([1,2,5,6])"
   ]
  },
  {
   "cell_type": "markdown",
   "id": "l4gQECfk9tcS",
   "metadata": {
    "id": "l4gQECfk9tcS"
   },
   "source": [
    "#### **Exercice 06:** \n",
    ">**Écrire une fonction somme qui  prend en argument un entier $n$ et retourne la somme  des $n$-prémiers entiers naturels.**"
   ]
  },
  {
   "cell_type": "code",
   "execution_count": 35,
   "id": "b9a36530",
   "metadata": {},
   "outputs": [],
   "source": [
    "def somme_nombre(n) :\n",
    "    somme = 0\n",
    "    \"Somme des n-premiers entiers naturels\"\n",
    "    for x in range(1,int(n)+1):\n",
    "        somme = somme + x\n",
    "    print(somme)    \n",
    "                "
   ]
  },
  {
   "cell_type": "code",
   "execution_count": 36,
   "id": "07a0ed59",
   "metadata": {},
   "outputs": [
    {
     "name": "stdout",
     "output_type": "stream",
     "text": [
      "120\n"
     ]
    }
   ],
   "source": [
    "somme_nombre(15)"
   ]
  },
  {
   "cell_type": "markdown",
   "id": "tK9EsjZf9tcU",
   "metadata": {
    "id": "tK9EsjZf9tcU"
   },
   "source": [
    "#### **Exercice 07:** \n",
    ">**Écrire une fonction `nom` qui demande à l'utilisateur d'entrer son nom ensuite son prénom et affiche son prénom suivit de son nom.**"
   ]
  },
  {
   "cell_type": "code",
   "execution_count": 41,
   "id": "02fb6e64",
   "metadata": {},
   "outputs": [],
   "source": [
    "def nom() :\n",
    "    \"Affichage du prenom suivi du nom lu au clavier\"\n",
    "    firstname_user = input(\"Veuillez saisir votre nom : \")\n",
    "    lastname_user = input(\"Veuillez saisir votre prénom : \")\n",
    "    print(\"Vous vous appelez \" + firstname_user +' '+ lastname_user)"
   ]
  },
  {
   "cell_type": "code",
   "execution_count": 42,
   "id": "cdef2eb6",
   "metadata": {},
   "outputs": [
    {
     "name": "stdout",
     "output_type": "stream",
     "text": [
      "Veuillez saisir votre nom : TCHOKPON\n",
      "Veuillez saisir votre prénom : Roland\n",
      "Vous vous appelez TCHOKPON Roland\n"
     ]
    }
   ],
   "source": [
    "nom()"
   ]
  },
  {
   "cell_type": "markdown",
   "id": "YSwrwcEz9tcX",
   "metadata": {
    "id": "YSwrwcEz9tcX"
   },
   "source": [
    "#### **Exercice 08:** \n",
    ">**Écrire une fonction `nom` qui demande à l'utilisateur d'entrer son nom ensuite son prénom et affiche son prénom suivit de son nom.**"
   ]
  },
  {
   "cell_type": "code",
   "execution_count": null,
   "id": "mRk-8h1P9tcZ",
   "metadata": {
    "id": "mRk-8h1P9tcZ"
   },
   "outputs": [],
   "source": [
    "def nom() :\n",
    "     \"Affichage du prenom suivi du nom lu au clavier\"\n",
    "    firstname_user = input(\"Veuillez saisir votre nom : \")\n",
    "    lastname_user = input(\"Veuillez saisir votre prénom : \")\n",
    "    print(\"Vous vous appelez \" + firstname_user +' '+ lastname_user)"
   ]
  },
  {
   "cell_type": "code",
   "execution_count": 43,
   "id": "5616524a",
   "metadata": {},
   "outputs": [
    {
     "name": "stdout",
     "output_type": "stream",
     "text": [
      "Veuillez saisir votre nom : TCH\n",
      "Veuillez saisir votre prénom : Roland\n",
      "Vous vous appelez TCH Roland\n"
     ]
    }
   ],
   "source": [
    "nom()"
   ]
  },
  {
   "cell_type": "markdown",
   "id": "VYtzHXAd9tck",
   "metadata": {
    "id": "VYtzHXAd9tck"
   },
   "source": [
    "#### **Exercice 09:** \n",
    ">**Ecris une fonction `Maximum` qui renvoie le minimum de trois nombres.**"
   ]
  },
  {
   "cell_type": "code",
   "execution_count": 67,
   "id": "9d460742",
   "metadata": {},
   "outputs": [],
   "source": [
    "def Maximum(a,b,c) :\n",
    "    \"Renvoi du minimum de trois nombres\"\n",
    "    res = [a,b,c]\n",
    "    return min(res)"
   ]
  },
  {
   "cell_type": "code",
   "execution_count": 69,
   "id": "c2fd3730",
   "metadata": {},
   "outputs": [
    {
     "data": {
      "text/plain": [
       "1"
      ]
     },
     "execution_count": 69,
     "metadata": {},
     "output_type": "execute_result"
    }
   ],
   "source": [
    "Maximum(1,5,10)"
   ]
  },
  {
   "cell_type": "markdown",
   "id": "gTpTAnGm9tcm",
   "metadata": {
    "id": "gTpTAnGm9tcm"
   },
   "source": [
    "#### **Exercice 10:**\n",
    ">**Soit $f(x)=ax^2+bx+c$ un trinôme du second degré.**\n",
    " 1. **Ecris une fonction `Discriminant` qui calcule son discriminant.**\n",
    " 2. **Ecris ensuite une fonction `existence_des_racines_du_trinome` qui discute suivant les valeurs du discriminant, l'existence de ses racines.** \n"
   ]
  },
  {
   "cell_type": "code",
   "execution_count": 39,
   "id": "b97fa426",
   "metadata": {},
   "outputs": [
    {
     "name": "stdout",
     "output_type": "stream",
     "text": [
      "Pas de solution\n"
     ]
    }
   ],
   "source": [
    "def Discriminant(a,b,c):\n",
    "    \"Calcul du discriminant\"\n",
    "    return (b*b) - (4*a*c)\n",
    "\n",
    "def existence_des_racines_du_trinome(a,b,c):\n",
    "    \"Verification des valeurs du discriminant\"\n",
    "    discriminant = Discriminant(a,b,c)\n",
    "    if discriminant > 0 :\n",
    "        print(\"Deux solutions\")\n",
    "    elif discriminant < 0 :\n",
    "        print(\"Pas de solution\")\n",
    "    elif discriminant == 0 :\n",
    "        print(\"Une solution\")\n",
    "existence_des_racines_du_trinome(1,2,3)       "
   ]
  },
  {
   "cell_type": "markdown",
   "id": "WgJ06GHA9tcn",
   "metadata": {
    "id": "WgJ06GHA9tcn"
   },
   "source": [
    "#### **Exercice 11:**\n",
    ">**Ecris une fonction qui affiche le reste de la division euclidienne d'un entier naturel $a$ par un entier naturel $b$**.\n"
   ]
  },
  {
   "cell_type": "code",
   "execution_count": 51,
   "id": "S1uM-Jca9tcn",
   "metadata": {
    "id": "S1uM-Jca9tcn"
   },
   "outputs": [
    {
     "data": {
      "text/plain": [
       "2.0"
      ]
     },
     "execution_count": 51,
     "metadata": {},
     "output_type": "execute_result"
    }
   ],
   "source": [
    "def modulo(a,b):\n",
    "    \"affichage du reste d'une division euclidienne\"\n",
    "    return float(a%b)\n",
    "modulo(2,5)   "
   ]
  },
  {
   "cell_type": "markdown",
   "id": "dtC_cOVJ9tco",
   "metadata": {
    "id": "dtC_cOVJ9tco"
   },
   "source": [
    "#### **Exercice 12:**\n",
    ">**Ecris une fonction `terme_suite_geometrique` qui affiche le n-ième terme d'une suite géométrique $(v_n)$ de premier terme $v_0$ et de raison $q$. Teste ce programme pour $v_0=2, q=3$ et $n=4$.**"
   ]
  },
  {
   "cell_type": "code",
   "execution_count": 11,
   "id": "TeLDRV8N9tco",
   "metadata": {
    "id": "TeLDRV8N9tco"
   },
   "outputs": [
    {
     "name": "stdout",
     "output_type": "stream",
     "text": [
      "Entrer n : 4\n",
      "Entrer le premier terme v0 : 2\n",
      "Entrer la raison q : 3\n",
      "V[ 4 ] =  162\n"
     ]
    }
   ],
   "source": [
    "def terme_suite_geometrique():\n",
    "    \"Fonction qui affiche le n-ieme terme d'une suite geometrique\"\n",
    "    n = int(input(\"Entrer n : \"))\n",
    "    v = int(input(\"Entrer le premier terme v0 : \"))\n",
    "    q = int(input(\"Entrer la raison q : \"))\n",
    "    print(\"V[\",n,\"] = \",v*(q**n))\n",
    "    \n",
    "terme_suite_geometrique()    "
   ]
  },
  {
   "cell_type": "markdown",
   "id": "GrmGuHwu9tco",
   "metadata": {
    "id": "GrmGuHwu9tco"
   },
   "source": [
    "#### **Exercice 13:**\n",
    ">**Écris une fonction `merci` prend en paramètre un `nom` et renvoie le message \"Merci pour votre présence à cet atelier,`nom`.**\n"
   ]
  },
  {
   "cell_type": "code",
   "execution_count": 49,
   "id": "7605bef3",
   "metadata": {},
   "outputs": [
    {
     "data": {
      "text/plain": [
       "'Merci pour votre présence à cet atelier,Roland'"
      ]
     },
     "execution_count": 49,
     "metadata": {},
     "output_type": "execute_result"
    }
   ],
   "source": [
    "def merci(nom):\n",
    "    \"Renvoie du message Merci pour votre présence à cet atelier suivit du nom\"\n",
    "    name = \"Merci pour votre présence à cet atelier,\"+nom\n",
    "    return name\n",
    "merci(\"Roland\")"
   ]
  },
  {
   "cell_type": "markdown",
   "id": "T3jopRLc9tco",
   "metadata": {
    "id": "T3jopRLc9tco"
   },
   "source": [
    "#### **Exercice 14:**\n",
    ">**Écris une fonction `ma_suite` qui définit la suite $(u_n)$ telle que  $$u_{n}=\\frac{2n^2+3n-1}{n+6}.$$\n",
    "Affiche son 5e terme.**\n"
   ]
  },
  {
   "cell_type": "code",
   "execution_count": 4,
   "id": "P1l82riw9tcp",
   "metadata": {
    "id": "P1l82riw9tcp"
   },
   "outputs": [
    {
     "name": "stdout",
     "output_type": "stream",
     "text": [
      "U[ 5 ] =  5.818181818181818\n"
     ]
    }
   ],
   "source": [
    "def ma_suite(n):\n",
    "    \"Fonction qui affcihe son 5e terme d'une suite arithmétrique\"\n",
    "    print(\"U[\",n,\"] = \", ((2*n*n)+3*n-1)/(n+6)) \n",
    "ma_suite(5)"
   ]
  },
  {
   "cell_type": "markdown",
   "id": "SIizzU_A9tcp",
   "metadata": {
    "id": "SIizzU_A9tcp"
   },
   "source": [
    "\n",
    "\n",
    "<center> <b> <span style=\"color:orange;\"> 🎉 FÉLICITATIONS ! 🎉 </span> </b></center>"
   ]
  }
 ],
 "metadata": {
  "colab": {
   "collapsed_sections": [],
   "name": "In2Py_TP_05.ipynb",
   "provenance": []
  },
  "kernelspec": {
   "display_name": "Python 3 (ipykernel)",
   "language": "python",
   "name": "python3"
  },
  "language_info": {
   "codemirror_mode": {
    "name": "ipython",
    "version": 3
   },
   "file_extension": ".py",
   "mimetype": "text/x-python",
   "name": "python",
   "nbconvert_exporter": "python",
   "pygments_lexer": "ipython3",
   "version": "3.9.12"
  }
 },
 "nbformat": 4,
 "nbformat_minor": 5
}
