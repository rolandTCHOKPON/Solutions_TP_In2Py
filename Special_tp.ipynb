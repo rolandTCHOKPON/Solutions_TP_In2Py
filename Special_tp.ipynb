{
 "cells": [
  {
   "cell_type": "markdown",
   "id": "5be933c3",
   "metadata": {},
   "source": [
    "Special exercises"
   ]
  },
  {
   "cell_type": "code",
   "execution_count": null,
   "id": "311e8afb",
   "metadata": {},
   "outputs": [],
   "source": [
    "1. Calculons les expressions :\n",
    "    - Somme :"
   ]
  },
  {
   "cell_type": "code",
   "execution_count": 10,
   "id": "e0b487f4",
   "metadata": {},
   "outputs": [
    {
     "name": "stdout",
     "output_type": "stream",
     "text": [
      "Veuillez saisir un entier : 3\n",
      "7\n"
     ]
    }
   ],
   "source": [
    "n = input(\"Veuillez saisir un entier : \")\n",
    "somme = 0\n",
    "for i in range(0,int(n)-1) :\n",
    "    somme = somme  + (i+3)\n",
    "print(somme)    "
   ]
  },
  {
   "cell_type": "markdown",
   "id": "1a9167f4",
   "metadata": {},
   "source": [
    "    - Produit :"
   ]
  },
  {
   "cell_type": "code",
   "execution_count": 13,
   "id": "0aa09376",
   "metadata": {},
   "outputs": [
    {
     "name": "stdout",
     "output_type": "stream",
     "text": [
      "Veuillez saisir un entier : 3\n",
      "12\n"
     ]
    }
   ],
   "source": [
    "n = input(\"Veuillez saisir un entier : \")\n",
    "produit = 1\n",
    "for i in range(0,int(n)-1) :\n",
    "    produit = produit  * (i+3)\n",
    "print(produit) "
   ]
  },
  {
   "cell_type": "markdown",
   "id": "c590a995",
   "metadata": {},
   "source": [
    "2. Affichez date"
   ]
  },
  {
   "cell_type": "code",
   "execution_count": 91,
   "id": "6706dec1",
   "metadata": {},
   "outputs": [
    {
     "name": "stdout",
     "output_type": "stream",
     "text": [
      "Veuillez saisir le jour : 4\n",
      "Le jour correspondant est :  Friday\n"
     ]
    }
   ],
   "source": [
    "x = {0:'Monday', 1:'Tuesday', 2:'Wednesday', 3:'Thursday', 4:'Friday',5:'Saturday',6:'Sunday'}\n",
    "n = input(\"Veuillez saisir le jour : \")\n",
    "while((int(n)<0) | (int(n)>6) ) :\n",
    "    n = input(\"Veuillez saisir un jour compris entre [0-6]: \")\n",
    "if int(n) > 0 and int(n) < 5 :   \n",
    "    print(\"Le jour correspondant est : \",x[int(n)])\n",
    "else :\n",
    "    print(\"Weekend\")"
   ]
  },
  {
   "cell_type": "markdown",
   "id": "77d41b98",
   "metadata": {},
   "source": [
    "3. Nombre d'heure"
   ]
  },
  {
   "cell_type": "code",
   "execution_count": 51,
   "id": "3b7c8841",
   "metadata": {},
   "outputs": [
    {
     "name": "stdout",
     "output_type": "stream",
     "text": [
      "Veuillez saisir un mois : 11\n",
      "Le mois 11 comprend 31 jours\n"
     ]
    }
   ],
   "source": [
    "mois = input(\"Veuillez saisir un mois : \")\n",
    "while((int(mois)<0) | (int(mois)>11) ): mois = input(\"Veuillez saisir un mois compris entre [0-11] :\")\n",
    "if (int(mois) == 0) : \n",
    "        print(\"Le mois\",int(mois),\"comprend 31 jours\")\n",
    "elif (int(mois) == 1) :\n",
    "        print(\"Le mois\",int(mois),\"comprend 28 jours\")\n",
    "elif (int(mois) == 2) :\n",
    "        print(\"Le mois\",int(mois),\"comprend 31 jours\")\n",
    "elif (int(mois) == 3) :\n",
    "        print(\"Le mois\",int(mois),\"comprend 30 jours\")\n",
    "elif (int(mois) == 4) :\n",
    "        print(\"Le mois\",int(mois),\"comprend 31 jours\")  \n",
    "elif (int(mois) == 5) :\n",
    "        print(\"Le mois\",int(mois),\"comprend 30 jours\")  \n",
    "elif (int(mois) == 6) :\n",
    "        print(\"Le mois\",int(mois),\"comprend 31 jours\") \n",
    "elif (int(mois) == 7) :\n",
    "        print(\"Le mois\",int(mois),\"comprend 31 jours\")   \n",
    "elif (int(mois) == 8) :\n",
    "        print(\"Le mois\",int(mois),\"comprend 30 jours\")\n",
    "elif (int(mois) == 9) :\n",
    "        print(\"Le mois\",int(mois),\"comprend 31 jours\")  \n",
    "elif (int(mois) == 10) :\n",
    "        print(\"Le mois\",int(mois),\"comprend 30 jours\")\n",
    "elif (int(mois) == 11) :\n",
    "        print(\"Le mois\",int(mois),\"comprend 31 jours\")        "
   ]
  },
  {
   "cell_type": "markdown",
   "id": "69a9aa4c",
   "metadata": {},
   "source": [
    "4. Affichez nom 3 fois de deux manière\n",
    "   - While loop"
   ]
  },
  {
   "cell_type": "code",
   "execution_count": 97,
   "id": "8b965ffa",
   "metadata": {},
   "outputs": [
    {
     "name": "stdout",
     "output_type": "stream",
     "text": [
      "Roland\n",
      "Roland\n",
      "Roland\n"
     ]
    }
   ],
   "source": [
    "nom  = \"Roland\"\n",
    "x = 1\n",
    "while x < 4 :\n",
    "    print(nom)\n",
    "    x = x + 1"
   ]
  },
  {
   "cell_type": "markdown",
   "id": "f7f27e30",
   "metadata": {},
   "source": [
    "   - For Loop"
   ]
  },
  {
   "cell_type": "code",
   "execution_count": 99,
   "id": "94381c5b",
   "metadata": {},
   "outputs": [
    {
     "name": "stdout",
     "output_type": "stream",
     "text": [
      "Roland\n",
      "Roland\n",
      "Roland\n"
     ]
    }
   ],
   "source": [
    "nom  = \"Roland\"\n",
    "for x in range(1,4) :\n",
    "    print(nom)\n",
    "    "
   ]
  },
  {
   "cell_type": "code",
   "execution_count": null,
   "id": "6f2e0826",
   "metadata": {},
   "outputs": [],
   "source": []
  }
 ],
 "metadata": {
  "kernelspec": {
   "display_name": "Python 3 (ipykernel)",
   "language": "python",
   "name": "python3"
  },
  "language_info": {
   "codemirror_mode": {
    "name": "ipython",
    "version": 3
   },
   "file_extension": ".py",
   "mimetype": "text/x-python",
   "name": "python",
   "nbconvert_exporter": "python",
   "pygments_lexer": "ipython3",
   "version": "3.9.12"
  }
 },
 "nbformat": 4,
 "nbformat_minor": 5
}
